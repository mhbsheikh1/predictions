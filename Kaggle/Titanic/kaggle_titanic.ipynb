{
 "cells": [
  {
   "cell_type": "markdown",
   "metadata": {},
   "source": [
    "## Loading datasets\n",
    "## splitting datasets & droping unnecessary columns"
   ]
  },
  {
   "cell_type": "code",
   "execution_count": 1,
   "metadata": {},
   "outputs": [],
   "source": [
    "import pandas as pd\n",
    "\n",
    "test = pd.read_csv('test.csv')\n",
    "train = pd.read_csv('train.csv')\n",
    "\n",
    "y_train = train.iloc[:, 1]\n",
    "\n",
    "X_train = train.drop(columns = ['PassengerId', 'Survived', 'Name', 'Ticket', 'Cabin'])\n",
    "X_test = test.drop(columns = ['PassengerId', 'Name', 'Ticket', 'Cabin'])"
   ]
  },
  {
   "cell_type": "markdown",
   "metadata": {},
   "source": [
    "## checking if a particular column contains NaN values or irrelevant data"
   ]
  },
  {
   "cell_type": "code",
   "execution_count": 8,
   "metadata": {},
   "outputs": [
    {
     "name": "stdout",
     "output_type": "stream",
     "text": [
      "{'C', 'S', nan, 'Q'}\n"
     ]
    }
   ],
   "source": [
    "print(set(X_train['Embarked']))"
   ]
  },
  {
   "cell_type": "markdown",
   "metadata": {},
   "source": [
    "## counting number of times an unique item occured in a particular column"
   ]
  },
  {
   "cell_type": "code",
   "execution_count": 9,
   "metadata": {},
   "outputs": [
    {
     "name": "stdout",
     "output_type": "stream",
     "text": [
      "S    644\n",
      "C    168\n",
      "Q     77\n",
      "Name: Embarked, dtype: int64\n"
     ]
    }
   ],
   "source": [
    "print(X_train['Embarked'].value_counts())"
   ]
  },
  {
   "cell_type": "markdown",
   "metadata": {},
   "source": [
    "## visualizing the number of times an unique item occured in a particular column by plotting barchart"
   ]
  },
  {
   "cell_type": "code",
   "execution_count": 10,
   "metadata": {},
   "outputs": [
    {
     "data": {
      "text/plain": [
       "<matplotlib.axes._subplots.AxesSubplot at 0x1d533402128>"
      ]
     },
     "execution_count": 10,
     "metadata": {},
     "output_type": "execute_result"
    },
    {
     "data": {
      "image/png": "[encoded data removed]",
      "text/plain": [
       "<Figure size 432x288 with 1 Axes>"
      ]
     },
     "metadata": {
      "needs_background": "light"
     },
     "output_type": "display_data"
    }
   ],
   "source": [
    "X_train['Embarked'].value_counts().plot(kind='bar')"
   ]
  },
  {
   "cell_type": "markdown",
   "metadata": {},
   "source": [
    "## filling Embarked column's NaN values using forwardfill method. similarly replacing Age column's NaN values by putting a zero"
   ]
  },
  {
   "cell_type": "code",
   "execution_count": 21,
   "metadata": {},
   "outputs": [],
   "source": [
    "X_train['Embarked'].fillna(method = 'ffill', inplace = True)\n",
    "X_test['Embarked'].fillna(method = 'ffill', inplace = True)\n",
    "X_test['Fare'].fillna(method = 'bfill', inplace = True)\n",
    "\n",
    "X_train['Age'].fillna(0, inplace = True)\n",
    "X_test['Age'].fillna(0, inplace = True)"
   ]
  },
  {
   "cell_type": "markdown",
   "metadata": {},
   "source": [
    "## replacing Age column's zero values. \n",
    "## used a loop to iterate each elements of the column.\n",
    "## if iterated item is non zero value then the value will be append in a new list.\n",
    "## if iterated item is zero then it does some simple calculation and append the calculated value to the list.\n",
    "# calculation:\n",
    "## if first item is zero then it follows backwardfill method.\n",
    "## if last item is zero then it follows forwardfill method.\n",
    "## else it calculate the average value using it's privious item and next item"
   ]
  },
  {
   "cell_type": "code",
   "execution_count": 13,
   "metadata": {},
   "outputs": [],
   "source": [
    "trainAge = []\n",
    "for i in range(len(X_train['Age'])):\n",
    "    if X_train['Age'][i] == 0:\n",
    "        previous_i, next_i = i - 1, i + 1\n",
    "        trainAge.append((X_train['Age'][previous_i] + X_train['Age'][next_i])/2.0)\n",
    "    else:\n",
    "        trainAge.append(X_train['Age'][i])\n",
    "        \n",
    "        \n",
    "        \n",
    "testAge = []\n",
    "for i in range(len(X_test['Age'])):\n",
    "    if i == len(X_test['Age'])-1:\n",
    "        if X_test['Age'][i] == 0:\n",
    "            testAge.append(X_test['Age'].values.mean())\n",
    "    else:\n",
    "        if X_test['Age'][i] == 0:\n",
    "            previous_i, next_i = i - 1, i + 1\n",
    "            testAge.append((X_test['Age'][previous_i] + X_test['Age'][next_i])/2.0)\n",
    "        else:\n",
    "            testAge.append(X_test['Age'][i])"
   ]
  },
  {
   "cell_type": "markdown",
   "metadata": {
    "scrolled": true
   },
   "source": [
    "## dropping the old Age column and adding calculated new Age column to the datasets"
   ]
  },
  {
   "cell_type": "code",
   "execution_count": 14,
   "metadata": {},
   "outputs": [],
   "source": [
    "X_train = X_train.drop(columns = ['Age'])\n",
    "X_test = X_test.drop(columns = ['Age'])\n",
    "\n",
    "X_train['Age'] = trainAge\n",
    "X_test['Age'] = testAge"
   ]
  },
  {
   "cell_type": "markdown",
   "metadata": {},
   "source": [
    "## converting categorical values into numeric values"
   ]
  },
  {
   "cell_type": "code",
   "execution_count": 15,
   "metadata": {},
   "outputs": [],
   "source": [
    "from sklearn.preprocessing import LabelEncoder\n",
    "le = LabelEncoder()\n",
    "X_train['Sex'] = le.fit_transform(X_train['Sex'])\n",
    "X_train['Embarked'] = le.fit_transform(X_train['Embarked'])\n",
    "X_test['Sex'] = le.fit_transform(X_test['Sex'])\n",
    "X_test['Embarked'] = le.fit_transform(X_test['Embarked'])"
   ]
  },
  {
   "cell_type": "markdown",
   "metadata": {},
   "source": [
    "## applying feature scaling"
   ]
  },
  {
   "cell_type": "code",
   "execution_count": 22,
   "metadata": {
    "scrolled": true
   },
   "outputs": [],
   "source": [
    "from sklearn.preprocessing import StandardScaler\n",
    "import numpy as np\n",
    "sc_X = StandardScaler()\n",
    "sc_y = StandardScaler()\n",
    "X_train = sc_X.fit_transform(X_train)\n",
    "X_test = sc_X.fit_transform(X_test)"
   ]
  },
  {
   "cell_type": "markdown",
   "metadata": {},
   "source": [
    "## predicting test dataset's result using Support Vector Classifier"
   ]
  },
  {
   "cell_type": "code",
   "execution_count": 23,
   "metadata": {},
   "outputs": [],
   "source": [
    "from sklearn.svm import SVC\n",
    "classifier = SVC()\n",
    "classifier.fit(X_train, y_train)\n",
    "y_pred = classifier.predict(X_test)"
   ]
  },
  {
   "cell_type": "markdown",
   "metadata": {},
   "source": [
    "## saving the result for further use"
   ]
  },
  {
   "cell_type": "code",
   "execution_count": 141,
   "metadata": {},
   "outputs": [],
   "source": [
    "new_df = pd.DataFrame()\n",
    "new_df['PassengerId'] = [i for i in range(892, 1310)]\n",
    "new_df['Survived'] = y_pred\n",
    "new_df.to_csv('new.csv', index = False)"
   ]
  },
  {
   "cell_type": "markdown",
   "metadata": {},
   "source": [
    "# Improving model:\n",
    "## applying grid search to find parameters of support vector classifier which will give best accuracy score"
   ]
  },
  {
   "cell_type": "code",
   "execution_count": null,
   "metadata": {},
   "outputs": [],
   "source": [
    "from sklearn.model_selection import GridSearchCV\n",
    "parameters = [{'C': [1, 10], 'kernel': ['linear']},\n",
    "              {'C': [.1, .2, .3, .4, .5, 1, 10], 'kernel': ['rbf'], 'gamma': [0.1, 0.2, 0.3, 0.4, 0.4, 0.6, 0.7, 0.8]}]\n",
    "grid_search = GridSearchCV(estimator = classifier,\n",
    "                           param_grid = parameters,\n",
    "                           scoring = 'accuracy',\n",
    "                           cv = 10,\n",
    "                           n_jobs = -1)\n",
    "grid_search = grid_search.fit(X_train, y_train)\n",
    "best_accuracy = grid_search.best_score_\n",
    "best_parameters = grid_search.best_params_"
   ]
  }
 ],
 "metadata": {
  "kernelspec": {
   "display_name": "Python 3",
   "language": "python",
   "name": "python3"
  },
  "language_info": {
   "codemirror_mode": {
    "name": "ipython",
    "version": 3
   },
   "file_extension": ".py",
   "mimetype": "text/x-python",
   "name": "python",
   "nbconvert_exporter": "python",
   "pygments_lexer": "ipython3",
   "version": "3.7.0"
  }
 },
 "nbformat": 4,
 "nbformat_minor": 2
}
