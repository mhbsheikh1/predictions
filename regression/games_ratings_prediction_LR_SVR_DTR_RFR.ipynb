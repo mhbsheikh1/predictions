{
 "cells": [
  {
   "cell_type": "code",
   "execution_count": 1,
   "metadata": {},
   "outputs": [
    {
     "data": {
      "text/html": [
       "<div>\n",
       "<style scoped>\n",
       "    .dataframe tbody tr th:only-of-type {\n",
       "        vertical-align: middle;\n",
       "    }\n",
       "\n",
       "    .dataframe tbody tr th {\n",
       "        vertical-align: top;\n",
       "    }\n",
       "\n",
       "    .dataframe thead th {\n",
       "        text-align: right;\n",
       "    }\n",
       "</style>\n",
       "<table border=\"1\" class=\"dataframe\">\n",
       "  <thead>\n",
       "    <tr style=\"text-align: right;\">\n",
       "      <th></th>\n",
       "      <th>id</th>\n",
       "      <th>type</th>\n",
       "      <th>name</th>\n",
       "      <th>yearpublished</th>\n",
       "      <th>minplayers</th>\n",
       "      <th>maxplayers</th>\n",
       "      <th>playingtime</th>\n",
       "      <th>minplaytime</th>\n",
       "      <th>maxplaytime</th>\n",
       "      <th>minage</th>\n",
       "      <th>users_rated</th>\n",
       "      <th>average_rating</th>\n",
       "      <th>bayes_average_rating</th>\n",
       "      <th>total_owners</th>\n",
       "      <th>total_traders</th>\n",
       "      <th>total_wanters</th>\n",
       "      <th>total_wishers</th>\n",
       "      <th>total_comments</th>\n",
       "      <th>total_weights</th>\n",
       "      <th>average_weight</th>\n",
       "    </tr>\n",
       "  </thead>\n",
       "  <tbody>\n",
       "    <tr>\n",
       "      <th>81311</th>\n",
       "      <td>184451</td>\n",
       "      <td>boardgame</td>\n",
       "      <td>Bingo Animal Kids</td>\n",
       "      <td>2010.0</td>\n",
       "      <td>1.0</td>\n",
       "      <td>6.0</td>\n",
       "      <td>10.0</td>\n",
       "      <td>10.0</td>\n",
       "      <td>10.0</td>\n",
       "      <td>2.0</td>\n",
       "      <td>0</td>\n",
       "      <td>0.0</td>\n",
       "      <td>0.0</td>\n",
       "      <td>0</td>\n",
       "      <td>0</td>\n",
       "      <td>0</td>\n",
       "      <td>0</td>\n",
       "      <td>0</td>\n",
       "      <td>0</td>\n",
       "      <td>0.0</td>\n",
       "    </tr>\n",
       "  </tbody>\n",
       "</table>\n",
       "</div>"
      ],
      "text/plain": [
       "           id       type               name  yearpublished  minplayers  \\\n",
       "81311  184451  boardgame  Bingo Animal Kids         2010.0         1.0   \n",
       "\n",
       "       maxplayers  playingtime  minplaytime  maxplaytime  minage  users_rated  \\\n",
       "81311         6.0         10.0         10.0         10.0     2.0            0   \n",
       "\n",
       "       average_rating  bayes_average_rating  total_owners  total_traders  \\\n",
       "81311             0.0                   0.0             0              0   \n",
       "\n",
       "       total_wanters  total_wishers  total_comments  total_weights  \\\n",
       "81311              0              0               0              0   \n",
       "\n",
       "       average_weight  \n",
       "81311             0.0  "
      ]
     },
     "execution_count": 1,
     "metadata": {},
     "output_type": "execute_result"
    }
   ],
   "source": [
    "# loading dataset\n",
    "import pandas as pd\n",
    "\n",
    "dataset = pd.read_csv('games.csv')\n",
    "dataset.tail(1)"
   ]
  },
  {
   "cell_type": "code",
   "execution_count": 2,
   "metadata": {},
   "outputs": [
    {
     "name": "stdout",
     "output_type": "stream",
     "text": [
      "(56894, 20)\n"
     ]
    }
   ],
   "source": [
    "# data preprocessing \n",
    "dataset = dataset[dataset['average_rating'] > 0]\n",
    "dataset = dataset.dropna(axis = 0)\n",
    "print(dataset.shape)"
   ]
  },
  {
   "cell_type": "code",
   "execution_count": 3,
   "metadata": {},
   "outputs": [],
   "source": [
    "# defining independent & dependent variables\n",
    "X = dataset.iloc[:, [3, 4,5,6,7,8,9,10,12,13,14,15,16,17,18,19]]\n",
    "y = dataset.iloc[:, 11]"
   ]
  },
  {
   "cell_type": "code",
   "execution_count": 4,
   "metadata": {},
   "outputs": [],
   "source": [
    "# applying backward_elimination\n",
    "import statsmodels.formula.api as sm\n",
    "import numpy as np\n",
    "\n",
    "X = np.append(arr = np.ones((len(X), 1)).astype(int), values = X, axis = 1)"
   ]
  },
  {
   "cell_type": "code",
   "execution_count": 5,
   "metadata": {},
   "outputs": [
    {
     "data": {
      "text/html": [
       "<table class=\"simpletable\">\n",
       "<caption>OLS Regression Results</caption>\n",
       "<tr>\n",
       "  <th>Dep. Variable:</th>     <td>average_rating</td>  <th>  R-squared:         </th>  <td>   0.160</td>  \n",
       "</tr>\n",
       "<tr>\n",
       "  <th>Model:</th>                   <td>OLS</td>       <th>  Adj. R-squared:    </th>  <td>   0.160</td>  \n",
       "</tr>\n",
       "<tr>\n",
       "  <th>Method:</th>             <td>Least Squares</td>  <th>  F-statistic:       </th>  <td>   723.3</td>  \n",
       "</tr>\n",
       "<tr>\n",
       "  <th>Date:</th>             <td>Sun, 08 Dec 2019</td> <th>  Prob (F-statistic):</th>   <td>  0.00</td>   \n",
       "</tr>\n",
       "<tr>\n",
       "  <th>Time:</th>                 <td>21:23:51</td>     <th>  Log-Likelihood:    </th> <td>-1.0174e+05</td>\n",
       "</tr>\n",
       "<tr>\n",
       "  <th>No. Observations:</th>      <td> 56894</td>      <th>  AIC:               </th>  <td>2.035e+05</td> \n",
       "</tr>\n",
       "<tr>\n",
       "  <th>Df Residuals:</th>          <td> 56878</td>      <th>  BIC:               </th>  <td>2.037e+05</td> \n",
       "</tr>\n",
       "<tr>\n",
       "  <th>Df Model:</th>              <td>    15</td>      <th>                     </th>      <td> </td>     \n",
       "</tr>\n",
       "<tr>\n",
       "  <th>Covariance Type:</th>      <td>nonrobust</td>    <th>                     </th>      <td> </td>     \n",
       "</tr>\n",
       "</table>\n",
       "<table class=\"simpletable\">\n",
       "<tr>\n",
       "    <td></td>       <th>coef</th>     <th>std err</th>      <th>t</th>      <th>P>|t|</th>  <th>[0.025</th>    <th>0.975]</th>  \n",
       "</tr>\n",
       "<tr>\n",
       "  <th>const</th> <td>    5.0552</td> <td>    0.029</td> <td>  172.733</td> <td> 0.000</td> <td>    4.998</td> <td>    5.113</td>\n",
       "</tr>\n",
       "<tr>\n",
       "  <th>x1</th>    <td>    0.0002</td> <td> 1.27e-05</td> <td>   12.884</td> <td> 0.000</td> <td>    0.000</td> <td>    0.000</td>\n",
       "</tr>\n",
       "<tr>\n",
       "  <th>x2</th>    <td>   -0.0711</td> <td>    0.008</td> <td>   -9.168</td> <td> 0.000</td> <td>   -0.086</td> <td>   -0.056</td>\n",
       "</tr>\n",
       "<tr>\n",
       "  <th>x3</th>    <td>   -0.0001</td> <td>    0.000</td> <td>   -0.941</td> <td> 0.347</td> <td>   -0.000</td> <td>    0.000</td>\n",
       "</tr>\n",
       "<tr>\n",
       "  <th>x4</th>    <td> 7.384e-05</td> <td> 2.98e-05</td> <td>    2.479</td> <td> 0.013</td> <td> 1.55e-05</td> <td>    0.000</td>\n",
       "</tr>\n",
       "<tr>\n",
       "  <th>x5</th>    <td>-9.972e-05</td> <td> 6.15e-05</td> <td>   -1.621</td> <td> 0.105</td> <td>   -0.000</td> <td> 2.09e-05</td>\n",
       "</tr>\n",
       "<tr>\n",
       "  <th>x6</th>    <td> 7.384e-05</td> <td> 2.98e-05</td> <td>    2.479</td> <td> 0.013</td> <td> 1.55e-05</td> <td>    0.000</td>\n",
       "</tr>\n",
       "<tr>\n",
       "  <th>x7</th>    <td>    0.0369</td> <td>    0.001</td> <td>   27.844</td> <td> 0.000</td> <td>    0.034</td> <td>    0.040</td>\n",
       "</tr>\n",
       "<tr>\n",
       "  <th>x8</th>    <td>   -0.0006</td> <td> 4.49e-05</td> <td>  -12.658</td> <td> 0.000</td> <td>   -0.001</td> <td>   -0.000</td>\n",
       "</tr>\n",
       "<tr>\n",
       "  <th>x9</th>    <td>    0.0032</td> <td>    0.003</td> <td>    1.011</td> <td> 0.312</td> <td>   -0.003</td> <td>    0.009</td>\n",
       "</tr>\n",
       "<tr>\n",
       "  <th>x10</th>   <td>    0.0004</td> <td> 1.94e-05</td> <td>   19.460</td> <td> 0.000</td> <td>    0.000</td> <td>    0.000</td>\n",
       "</tr>\n",
       "<tr>\n",
       "  <th>x11</th>   <td>   -0.0034</td> <td>    0.000</td> <td>  -10.900</td> <td> 0.000</td> <td>   -0.004</td> <td>   -0.003</td>\n",
       "</tr>\n",
       "<tr>\n",
       "  <th>x12</th>   <td>    0.0042</td> <td>    0.000</td> <td>   10.267</td> <td> 0.000</td> <td>    0.003</td> <td>    0.005</td>\n",
       "</tr>\n",
       "<tr>\n",
       "  <th>x13</th>   <td>   -0.0005</td> <td>    0.000</td> <td>   -4.291</td> <td> 0.000</td> <td>   -0.001</td> <td>   -0.000</td>\n",
       "</tr>\n",
       "<tr>\n",
       "  <th>x14</th>   <td>    0.0004</td> <td>    0.000</td> <td>    2.971</td> <td> 0.003</td> <td>    0.000</td> <td>    0.001</td>\n",
       "</tr>\n",
       "<tr>\n",
       "  <th>x15</th>   <td>    0.0007</td> <td>    0.000</td> <td>    2.629</td> <td> 0.009</td> <td>    0.000</td> <td>    0.001</td>\n",
       "</tr>\n",
       "<tr>\n",
       "  <th>x16</th>   <td>    0.3561</td> <td>    0.006</td> <td>   60.740</td> <td> 0.000</td> <td>    0.345</td> <td>    0.368</td>\n",
       "</tr>\n",
       "</table>\n",
       "<table class=\"simpletable\">\n",
       "<tr>\n",
       "  <th>Omnibus:</th>       <td>1118.544</td> <th>  Durbin-Watson:     </th> <td>   1.517</td>\n",
       "</tr>\n",
       "<tr>\n",
       "  <th>Prob(Omnibus):</th>  <td> 0.000</td>  <th>  Jarque-Bera (JB):  </th> <td>2007.621</td>\n",
       "</tr>\n",
       "<tr>\n",
       "  <th>Skew:</th>           <td>-0.153</td>  <th>  Prob(JB):          </th> <td>    0.00</td>\n",
       "</tr>\n",
       "<tr>\n",
       "  <th>Kurtosis:</th>       <td> 3.868</td>  <th>  Cond. No.          </th> <td>6.59e+16</td>\n",
       "</tr>\n",
       "</table><br/><br/>Warnings:<br/>[1] Standard Errors assume that the covariance matrix of the errors is correctly specified.<br/>[2] The smallest eigenvalue is 7.57e-23. This might indicate that there are<br/>strong multicollinearity problems or that the design matrix is singular."
      ],
      "text/plain": [
       "<class 'statsmodels.iolib.summary.Summary'>\n",
       "\"\"\"\n",
       "                            OLS Regression Results                            \n",
       "==============================================================================\n",
       "Dep. Variable:         average_rating   R-squared:                       0.160\n",
       "Model:                            OLS   Adj. R-squared:                  0.160\n",
       "Method:                 Least Squares   F-statistic:                     723.3\n",
       "Date:                Sun, 08 Dec 2019   Prob (F-statistic):               0.00\n",
       "Time:                        21:23:51   Log-Likelihood:            -1.0174e+05\n",
       "No. Observations:               56894   AIC:                         2.035e+05\n",
       "Df Residuals:                   56878   BIC:                         2.037e+05\n",
       "Df Model:                          15                                         \n",
       "Covariance Type:            nonrobust                                         \n",
       "==============================================================================\n",
       "                 coef    std err          t      P>|t|      [0.025      0.975]\n",
       "------------------------------------------------------------------------------\n",
       "const          5.0552      0.029    172.733      0.000       4.998       5.113\n",
       "x1             0.0002   1.27e-05     12.884      0.000       0.000       0.000\n",
       "x2            -0.0711      0.008     -9.168      0.000      -0.086      -0.056\n",
       "x3            -0.0001      0.000     -0.941      0.347      -0.000       0.000\n",
       "x4          7.384e-05   2.98e-05      2.479      0.013    1.55e-05       0.000\n",
       "x5         -9.972e-05   6.15e-05     -1.621      0.105      -0.000    2.09e-05\n",
       "x6          7.384e-05   2.98e-05      2.479      0.013    1.55e-05       0.000\n",
       "x7             0.0369      0.001     27.844      0.000       0.034       0.040\n",
       "x8            -0.0006   4.49e-05    -12.658      0.000      -0.001      -0.000\n",
       "x9             0.0032      0.003      1.011      0.312      -0.003       0.009\n",
       "x10            0.0004   1.94e-05     19.460      0.000       0.000       0.000\n",
       "x11           -0.0034      0.000    -10.900      0.000      -0.004      -0.003\n",
       "x12            0.0042      0.000     10.267      0.000       0.003       0.005\n",
       "x13           -0.0005      0.000     -4.291      0.000      -0.001      -0.000\n",
       "x14            0.0004      0.000      2.971      0.003       0.000       0.001\n",
       "x15            0.0007      0.000      2.629      0.009       0.000       0.001\n",
       "x16            0.3561      0.006     60.740      0.000       0.345       0.368\n",
       "==============================================================================\n",
       "Omnibus:                     1118.544   Durbin-Watson:                   1.517\n",
       "Prob(Omnibus):                  0.000   Jarque-Bera (JB):             2007.621\n",
       "Skew:                          -0.153   Prob(JB):                         0.00\n",
       "Kurtosis:                       3.868   Cond. No.                     6.59e+16\n",
       "==============================================================================\n",
       "\n",
       "Warnings:\n",
       "[1] Standard Errors assume that the covariance matrix of the errors is correctly specified.\n",
       "[2] The smallest eigenvalue is 7.57e-23. This might indicate that there are\n",
       "strong multicollinearity problems or that the design matrix is singular.\n",
       "\"\"\""
      ]
     },
     "execution_count": 5,
     "metadata": {},
     "output_type": "execute_result"
    }
   ],
   "source": [
    "X_opt = X[:, [0, 1, 2, 3, 4, 5, 6, 7, 8, 9, 10, 11, 12, 13, 14, 15, 16]]\n",
    "regressor_OLS = sm.OLS(endog = y, exog = X_opt).fit()\n",
    "regressor_OLS.summary()"
   ]
  },
  {
   "cell_type": "code",
   "execution_count": 6,
   "metadata": {},
   "outputs": [
    {
     "data": {
      "text/html": [
       "<table class=\"simpletable\">\n",
       "<caption>OLS Regression Results</caption>\n",
       "<tr>\n",
       "  <th>Dep. Variable:</th>     <td>average_rating</td>  <th>  R-squared:         </th>  <td>   0.160</td>  \n",
       "</tr>\n",
       "<tr>\n",
       "  <th>Model:</th>                   <td>OLS</td>       <th>  Adj. R-squared:    </th>  <td>   0.160</td>  \n",
       "</tr>\n",
       "<tr>\n",
       "  <th>Method:</th>             <td>Least Squares</td>  <th>  F-statistic:       </th>  <td>   774.9</td>  \n",
       "</tr>\n",
       "<tr>\n",
       "  <th>Date:</th>             <td>Sun, 08 Dec 2019</td> <th>  Prob (F-statistic):</th>   <td>  0.00</td>   \n",
       "</tr>\n",
       "<tr>\n",
       "  <th>Time:</th>                 <td>21:23:56</td>     <th>  Log-Likelihood:    </th> <td>-1.0175e+05</td>\n",
       "</tr>\n",
       "<tr>\n",
       "  <th>No. Observations:</th>      <td> 56894</td>      <th>  AIC:               </th>  <td>2.035e+05</td> \n",
       "</tr>\n",
       "<tr>\n",
       "  <th>Df Residuals:</th>          <td> 56879</td>      <th>  BIC:               </th>  <td>2.037e+05</td> \n",
       "</tr>\n",
       "<tr>\n",
       "  <th>Df Model:</th>              <td>    14</td>      <th>                     </th>      <td> </td>     \n",
       "</tr>\n",
       "<tr>\n",
       "  <th>Covariance Type:</th>      <td>nonrobust</td>    <th>                     </th>      <td> </td>     \n",
       "</tr>\n",
       "</table>\n",
       "<table class=\"simpletable\">\n",
       "<tr>\n",
       "    <td></td>       <th>coef</th>     <th>std err</th>      <th>t</th>      <th>P>|t|</th>  <th>[0.025</th>    <th>0.975]</th>  \n",
       "</tr>\n",
       "<tr>\n",
       "  <th>const</th> <td>    5.0552</td> <td>    0.029</td> <td>  172.732</td> <td> 0.000</td> <td>    4.998</td> <td>    5.113</td>\n",
       "</tr>\n",
       "<tr>\n",
       "  <th>x1</th>    <td>    0.0002</td> <td> 1.27e-05</td> <td>   12.879</td> <td> 0.000</td> <td>    0.000</td> <td>    0.000</td>\n",
       "</tr>\n",
       "<tr>\n",
       "  <th>x2</th>    <td>   -0.0713</td> <td>    0.008</td> <td>   -9.208</td> <td> 0.000</td> <td>   -0.087</td> <td>   -0.056</td>\n",
       "</tr>\n",
       "<tr>\n",
       "  <th>x3</th>    <td> 7.383e-05</td> <td> 2.98e-05</td> <td>    2.479</td> <td> 0.013</td> <td> 1.55e-05</td> <td>    0.000</td>\n",
       "</tr>\n",
       "<tr>\n",
       "  <th>x4</th>    <td>-9.969e-05</td> <td> 6.15e-05</td> <td>   -1.620</td> <td> 0.105</td> <td>   -0.000</td> <td> 2.09e-05</td>\n",
       "</tr>\n",
       "<tr>\n",
       "  <th>x5</th>    <td> 7.383e-05</td> <td> 2.98e-05</td> <td>    2.479</td> <td> 0.013</td> <td> 1.55e-05</td> <td>    0.000</td>\n",
       "</tr>\n",
       "<tr>\n",
       "  <th>x6</th>    <td>    0.0369</td> <td>    0.001</td> <td>   27.841</td> <td> 0.000</td> <td>    0.034</td> <td>    0.040</td>\n",
       "</tr>\n",
       "<tr>\n",
       "  <th>x7</th>    <td>   -0.0006</td> <td> 4.49e-05</td> <td>  -12.658</td> <td> 0.000</td> <td>   -0.001</td> <td>   -0.000</td>\n",
       "</tr>\n",
       "<tr>\n",
       "  <th>x8</th>    <td>    0.0032</td> <td>    0.003</td> <td>    1.010</td> <td> 0.312</td> <td>   -0.003</td> <td>    0.009</td>\n",
       "</tr>\n",
       "<tr>\n",
       "  <th>x9</th>    <td>    0.0004</td> <td> 1.94e-05</td> <td>   19.458</td> <td> 0.000</td> <td>    0.000</td> <td>    0.000</td>\n",
       "</tr>\n",
       "<tr>\n",
       "  <th>x10</th>   <td>   -0.0034</td> <td>    0.000</td> <td>  -10.898</td> <td> 0.000</td> <td>   -0.004</td> <td>   -0.003</td>\n",
       "</tr>\n",
       "<tr>\n",
       "  <th>x11</th>   <td>    0.0042</td> <td>    0.000</td> <td>   10.269</td> <td> 0.000</td> <td>    0.003</td> <td>    0.005</td>\n",
       "</tr>\n",
       "<tr>\n",
       "  <th>x12</th>   <td>   -0.0005</td> <td>    0.000</td> <td>   -4.292</td> <td> 0.000</td> <td>   -0.001</td> <td>   -0.000</td>\n",
       "</tr>\n",
       "<tr>\n",
       "  <th>x13</th>   <td>    0.0004</td> <td>    0.000</td> <td>    2.970</td> <td> 0.003</td> <td>    0.000</td> <td>    0.001</td>\n",
       "</tr>\n",
       "<tr>\n",
       "  <th>x14</th>   <td>    0.0007</td> <td>    0.000</td> <td>    2.630</td> <td> 0.009</td> <td>    0.000</td> <td>    0.001</td>\n",
       "</tr>\n",
       "<tr>\n",
       "  <th>x15</th>   <td>    0.3561</td> <td>    0.006</td> <td>   60.756</td> <td> 0.000</td> <td>    0.345</td> <td>    0.368</td>\n",
       "</tr>\n",
       "</table>\n",
       "<table class=\"simpletable\">\n",
       "<tr>\n",
       "  <th>Omnibus:</th>       <td>1118.546</td> <th>  Durbin-Watson:     </th> <td>   1.518</td>\n",
       "</tr>\n",
       "<tr>\n",
       "  <th>Prob(Omnibus):</th>  <td> 0.000</td>  <th>  Jarque-Bera (JB):  </th> <td>2007.644</td>\n",
       "</tr>\n",
       "<tr>\n",
       "  <th>Skew:</th>           <td>-0.153</td>  <th>  Prob(JB):          </th> <td>    0.00</td>\n",
       "</tr>\n",
       "<tr>\n",
       "  <th>Kurtosis:</th>       <td> 3.868</td>  <th>  Cond. No.          </th> <td>9.89e+16</td>\n",
       "</tr>\n",
       "</table><br/><br/>Warnings:<br/>[1] Standard Errors assume that the covariance matrix of the errors is correctly specified.<br/>[2] The smallest eigenvalue is 3.36e-23. This might indicate that there are<br/>strong multicollinearity problems or that the design matrix is singular."
      ],
      "text/plain": [
       "<class 'statsmodels.iolib.summary.Summary'>\n",
       "\"\"\"\n",
       "                            OLS Regression Results                            \n",
       "==============================================================================\n",
       "Dep. Variable:         average_rating   R-squared:                       0.160\n",
       "Model:                            OLS   Adj. R-squared:                  0.160\n",
       "Method:                 Least Squares   F-statistic:                     774.9\n",
       "Date:                Sun, 08 Dec 2019   Prob (F-statistic):               0.00\n",
       "Time:                        21:23:56   Log-Likelihood:            -1.0175e+05\n",
       "No. Observations:               56894   AIC:                         2.035e+05\n",
       "Df Residuals:                   56879   BIC:                         2.037e+05\n",
       "Df Model:                          14                                         \n",
       "Covariance Type:            nonrobust                                         \n",
       "==============================================================================\n",
       "                 coef    std err          t      P>|t|      [0.025      0.975]\n",
       "------------------------------------------------------------------------------\n",
       "const          5.0552      0.029    172.732      0.000       4.998       5.113\n",
       "x1             0.0002   1.27e-05     12.879      0.000       0.000       0.000\n",
       "x2            -0.0713      0.008     -9.208      0.000      -0.087      -0.056\n",
       "x3          7.383e-05   2.98e-05      2.479      0.013    1.55e-05       0.000\n",
       "x4         -9.969e-05   6.15e-05     -1.620      0.105      -0.000    2.09e-05\n",
       "x5          7.383e-05   2.98e-05      2.479      0.013    1.55e-05       0.000\n",
       "x6             0.0369      0.001     27.841      0.000       0.034       0.040\n",
       "x7            -0.0006   4.49e-05    -12.658      0.000      -0.001      -0.000\n",
       "x8             0.0032      0.003      1.010      0.312      -0.003       0.009\n",
       "x9             0.0004   1.94e-05     19.458      0.000       0.000       0.000\n",
       "x10           -0.0034      0.000    -10.898      0.000      -0.004      -0.003\n",
       "x11            0.0042      0.000     10.269      0.000       0.003       0.005\n",
       "x12           -0.0005      0.000     -4.292      0.000      -0.001      -0.000\n",
       "x13            0.0004      0.000      2.970      0.003       0.000       0.001\n",
       "x14            0.0007      0.000      2.630      0.009       0.000       0.001\n",
       "x15            0.3561      0.006     60.756      0.000       0.345       0.368\n",
       "==============================================================================\n",
       "Omnibus:                     1118.546   Durbin-Watson:                   1.518\n",
       "Prob(Omnibus):                  0.000   Jarque-Bera (JB):             2007.644\n",
       "Skew:                          -0.153   Prob(JB):                         0.00\n",
       "Kurtosis:                       3.868   Cond. No.                     9.89e+16\n",
       "==============================================================================\n",
       "\n",
       "Warnings:\n",
       "[1] Standard Errors assume that the covariance matrix of the errors is correctly specified.\n",
       "[2] The smallest eigenvalue is 3.36e-23. This might indicate that there are\n",
       "strong multicollinearity problems or that the design matrix is singular.\n",
       "\"\"\""
      ]
     },
     "execution_count": 6,
     "metadata": {},
     "output_type": "execute_result"
    }
   ],
   "source": [
    "X_opt = X[:, [0, 1, 2, 4, 5, 6, 7, 8, 9, 10, 11, 12, 13, 14, 15, 16]]\n",
    "regressor_OLS = sm.OLS(endog = y, exog = X_opt).fit()\n",
    "regressor_OLS.summary()"
   ]
  },
  {
   "cell_type": "code",
   "execution_count": 7,
   "metadata": {},
   "outputs": [
    {
     "data": {
      "text/html": [
       "<table class=\"simpletable\">\n",
       "<caption>OLS Regression Results</caption>\n",
       "<tr>\n",
       "  <th>Dep. Variable:</th>     <td>average_rating</td>  <th>  R-squared:         </th>  <td>   0.160</td>  \n",
       "</tr>\n",
       "<tr>\n",
       "  <th>Model:</th>                   <td>OLS</td>       <th>  Adj. R-squared:    </th>  <td>   0.160</td>  \n",
       "</tr>\n",
       "<tr>\n",
       "  <th>Method:</th>             <td>Least Squares</td>  <th>  F-statistic:       </th>  <td>   834.4</td>  \n",
       "</tr>\n",
       "<tr>\n",
       "  <th>Date:</th>             <td>Sun, 08 Dec 2019</td> <th>  Prob (F-statistic):</th>   <td>  0.00</td>   \n",
       "</tr>\n",
       "<tr>\n",
       "  <th>Time:</th>                 <td>21:23:59</td>     <th>  Log-Likelihood:    </th> <td>-1.0175e+05</td>\n",
       "</tr>\n",
       "<tr>\n",
       "  <th>No. Observations:</th>      <td> 56894</td>      <th>  AIC:               </th>  <td>2.035e+05</td> \n",
       "</tr>\n",
       "<tr>\n",
       "  <th>Df Residuals:</th>          <td> 56880</td>      <th>  BIC:               </th>  <td>2.036e+05</td> \n",
       "</tr>\n",
       "<tr>\n",
       "  <th>Df Model:</th>              <td>    13</td>      <th>                     </th>      <td> </td>     \n",
       "</tr>\n",
       "<tr>\n",
       "  <th>Covariance Type:</th>      <td>nonrobust</td>    <th>                     </th>      <td> </td>     \n",
       "</tr>\n",
       "</table>\n",
       "<table class=\"simpletable\">\n",
       "<tr>\n",
       "    <td></td>       <th>coef</th>     <th>std err</th>      <th>t</th>      <th>P>|t|</th>  <th>[0.025</th>    <th>0.975]</th>  \n",
       "</tr>\n",
       "<tr>\n",
       "  <th>const</th> <td>    5.0530</td> <td>    0.029</td> <td>  173.153</td> <td> 0.000</td> <td>    4.996</td> <td>    5.110</td>\n",
       "</tr>\n",
       "<tr>\n",
       "  <th>x1</th>    <td>    0.0002</td> <td> 1.27e-05</td> <td>   12.974</td> <td> 0.000</td> <td>    0.000</td> <td>    0.000</td>\n",
       "</tr>\n",
       "<tr>\n",
       "  <th>x2</th>    <td>   -0.0710</td> <td>    0.008</td> <td>   -9.172</td> <td> 0.000</td> <td>   -0.086</td> <td>   -0.056</td>\n",
       "</tr>\n",
       "<tr>\n",
       "  <th>x3</th>    <td> 7.361e-05</td> <td> 2.98e-05</td> <td>    2.472</td> <td> 0.013</td> <td> 1.52e-05</td> <td>    0.000</td>\n",
       "</tr>\n",
       "<tr>\n",
       "  <th>x4</th>    <td>-9.929e-05</td> <td> 6.15e-05</td> <td>   -1.614</td> <td> 0.107</td> <td>   -0.000</td> <td> 2.13e-05</td>\n",
       "</tr>\n",
       "<tr>\n",
       "  <th>x5</th>    <td> 7.361e-05</td> <td> 2.98e-05</td> <td>    2.472</td> <td> 0.013</td> <td> 1.52e-05</td> <td>    0.000</td>\n",
       "</tr>\n",
       "<tr>\n",
       "  <th>x6</th>    <td>    0.0370</td> <td>    0.001</td> <td>   28.094</td> <td> 0.000</td> <td>    0.034</td> <td>    0.040</td>\n",
       "</tr>\n",
       "<tr>\n",
       "  <th>x7</th>    <td>   -0.0006</td> <td> 4.43e-05</td> <td>  -13.018</td> <td> 0.000</td> <td>   -0.001</td> <td>   -0.000</td>\n",
       "</tr>\n",
       "<tr>\n",
       "  <th>x8</th>    <td>    0.0004</td> <td>  1.9e-05</td> <td>   20.068</td> <td> 0.000</td> <td>    0.000</td> <td>    0.000</td>\n",
       "</tr>\n",
       "<tr>\n",
       "  <th>x9</th>    <td>   -0.0033</td> <td>    0.000</td> <td>  -10.876</td> <td> 0.000</td> <td>   -0.004</td> <td>   -0.003</td>\n",
       "</tr>\n",
       "<tr>\n",
       "  <th>x10</th>   <td>    0.0042</td> <td>    0.000</td> <td>   10.670</td> <td> 0.000</td> <td>    0.003</td> <td>    0.005</td>\n",
       "</tr>\n",
       "<tr>\n",
       "  <th>x11</th>   <td>   -0.0005</td> <td>    0.000</td> <td>   -4.457</td> <td> 0.000</td> <td>   -0.001</td> <td>   -0.000</td>\n",
       "</tr>\n",
       "<tr>\n",
       "  <th>x12</th>   <td>    0.0004</td> <td>    0.000</td> <td>    3.045</td> <td> 0.002</td> <td>    0.000</td> <td>    0.001</td>\n",
       "</tr>\n",
       "<tr>\n",
       "  <th>x13</th>   <td>    0.0007</td> <td>    0.000</td> <td>    2.631</td> <td> 0.009</td> <td>    0.000</td> <td>    0.001</td>\n",
       "</tr>\n",
       "<tr>\n",
       "  <th>x14</th>   <td>    0.3582</td> <td>    0.006</td> <td>   64.926</td> <td> 0.000</td> <td>    0.347</td> <td>    0.369</td>\n",
       "</tr>\n",
       "</table>\n",
       "<table class=\"simpletable\">\n",
       "<tr>\n",
       "  <th>Omnibus:</th>       <td>1128.182</td> <th>  Durbin-Watson:     </th> <td>   1.518</td>\n",
       "</tr>\n",
       "<tr>\n",
       "  <th>Prob(Omnibus):</th>  <td> 0.000</td>  <th>  Jarque-Bera (JB):  </th> <td>2019.744</td>\n",
       "</tr>\n",
       "<tr>\n",
       "  <th>Skew:</th>           <td>-0.156</td>  <th>  Prob(JB):          </th> <td>    0.00</td>\n",
       "</tr>\n",
       "<tr>\n",
       "  <th>Kurtosis:</th>       <td> 3.869</td>  <th>  Cond. No.          </th> <td>1.23e+17</td>\n",
       "</tr>\n",
       "</table><br/><br/>Warnings:<br/>[1] Standard Errors assume that the covariance matrix of the errors is correctly specified.<br/>[2] The smallest eigenvalue is 2.16e-23. This might indicate that there are<br/>strong multicollinearity problems or that the design matrix is singular."
      ],
      "text/plain": [
       "<class 'statsmodels.iolib.summary.Summary'>\n",
       "\"\"\"\n",
       "                            OLS Regression Results                            \n",
       "==============================================================================\n",
       "Dep. Variable:         average_rating   R-squared:                       0.160\n",
       "Model:                            OLS   Adj. R-squared:                  0.160\n",
       "Method:                 Least Squares   F-statistic:                     834.4\n",
       "Date:                Sun, 08 Dec 2019   Prob (F-statistic):               0.00\n",
       "Time:                        21:23:59   Log-Likelihood:            -1.0175e+05\n",
       "No. Observations:               56894   AIC:                         2.035e+05\n",
       "Df Residuals:                   56880   BIC:                         2.036e+05\n",
       "Df Model:                          13                                         \n",
       "Covariance Type:            nonrobust                                         \n",
       "==============================================================================\n",
       "                 coef    std err          t      P>|t|      [0.025      0.975]\n",
       "------------------------------------------------------------------------------\n",
       "const          5.0530      0.029    173.153      0.000       4.996       5.110\n",
       "x1             0.0002   1.27e-05     12.974      0.000       0.000       0.000\n",
       "x2            -0.0710      0.008     -9.172      0.000      -0.086      -0.056\n",
       "x3          7.361e-05   2.98e-05      2.472      0.013    1.52e-05       0.000\n",
       "x4         -9.929e-05   6.15e-05     -1.614      0.107      -0.000    2.13e-05\n",
       "x5          7.361e-05   2.98e-05      2.472      0.013    1.52e-05       0.000\n",
       "x6             0.0370      0.001     28.094      0.000       0.034       0.040\n",
       "x7            -0.0006   4.43e-05    -13.018      0.000      -0.001      -0.000\n",
       "x8             0.0004    1.9e-05     20.068      0.000       0.000       0.000\n",
       "x9            -0.0033      0.000    -10.876      0.000      -0.004      -0.003\n",
       "x10            0.0042      0.000     10.670      0.000       0.003       0.005\n",
       "x11           -0.0005      0.000     -4.457      0.000      -0.001      -0.000\n",
       "x12            0.0004      0.000      3.045      0.002       0.000       0.001\n",
       "x13            0.0007      0.000      2.631      0.009       0.000       0.001\n",
       "x14            0.3582      0.006     64.926      0.000       0.347       0.369\n",
       "==============================================================================\n",
       "Omnibus:                     1128.182   Durbin-Watson:                   1.518\n",
       "Prob(Omnibus):                  0.000   Jarque-Bera (JB):             2019.744\n",
       "Skew:                          -0.156   Prob(JB):                         0.00\n",
       "Kurtosis:                       3.869   Cond. No.                     1.23e+17\n",
       "==============================================================================\n",
       "\n",
       "Warnings:\n",
       "[1] Standard Errors assume that the covariance matrix of the errors is correctly specified.\n",
       "[2] The smallest eigenvalue is 2.16e-23. This might indicate that there are\n",
       "strong multicollinearity problems or that the design matrix is singular.\n",
       "\"\"\""
      ]
     },
     "execution_count": 7,
     "metadata": {},
     "output_type": "execute_result"
    }
   ],
   "source": [
    "X_opt = X[:, [0, 1, 2, 4, 5, 6, 7, 8, 10, 11, 12, 13, 14, 15, 16]]\n",
    "regressor_OLS = sm.OLS(endog = y, exog = X_opt).fit()\n",
    "regressor_OLS.summary()"
   ]
  },
  {
   "cell_type": "code",
   "execution_count": 8,
   "metadata": {},
   "outputs": [
    {
     "data": {
      "text/html": [
       "<table class=\"simpletable\">\n",
       "<caption>OLS Regression Results</caption>\n",
       "<tr>\n",
       "  <th>Dep. Variable:</th>     <td>average_rating</td>  <th>  R-squared:         </th>  <td>   0.160</td>  \n",
       "</tr>\n",
       "<tr>\n",
       "  <th>Model:</th>                   <td>OLS</td>       <th>  Adj. R-squared:    </th>  <td>   0.160</td>  \n",
       "</tr>\n",
       "<tr>\n",
       "  <th>Method:</th>             <td>Least Squares</td>  <th>  F-statistic:       </th>  <td>   903.7</td>  \n",
       "</tr>\n",
       "<tr>\n",
       "  <th>Date:</th>             <td>Sun, 08 Dec 2019</td> <th>  Prob (F-statistic):</th>   <td>  0.00</td>   \n",
       "</tr>\n",
       "<tr>\n",
       "  <th>Time:</th>                 <td>21:24:02</td>     <th>  Log-Likelihood:    </th> <td>-1.0175e+05</td>\n",
       "</tr>\n",
       "<tr>\n",
       "  <th>No. Observations:</th>      <td> 56894</td>      <th>  AIC:               </th>  <td>2.035e+05</td> \n",
       "</tr>\n",
       "<tr>\n",
       "  <th>Df Residuals:</th>          <td> 56881</td>      <th>  BIC:               </th>  <td>2.036e+05</td> \n",
       "</tr>\n",
       "<tr>\n",
       "  <th>Df Model:</th>              <td>    12</td>      <th>                     </th>      <td> </td>     \n",
       "</tr>\n",
       "<tr>\n",
       "  <th>Covariance Type:</th>      <td>nonrobust</td>    <th>                     </th>      <td> </td>     \n",
       "</tr>\n",
       "</table>\n",
       "<table class=\"simpletable\">\n",
       "<tr>\n",
       "    <td></td>       <th>coef</th>     <th>std err</th>      <th>t</th>      <th>P>|t|</th>  <th>[0.025</th>    <th>0.975]</th>  \n",
       "</tr>\n",
       "<tr>\n",
       "  <th>const</th> <td>    5.0530</td> <td>    0.029</td> <td>  173.151</td> <td> 0.000</td> <td>    4.996</td> <td>    5.110</td>\n",
       "</tr>\n",
       "<tr>\n",
       "  <th>x1</th>    <td>    0.0002</td> <td> 1.27e-05</td> <td>   12.977</td> <td> 0.000</td> <td>    0.000</td> <td>    0.000</td>\n",
       "</tr>\n",
       "<tr>\n",
       "  <th>x2</th>    <td>   -0.0711</td> <td>    0.008</td> <td>   -9.188</td> <td> 0.000</td> <td>   -0.086</td> <td>   -0.056</td>\n",
       "</tr>\n",
       "<tr>\n",
       "  <th>x3</th>    <td> 2.709e-05</td> <td>  7.5e-06</td> <td>    3.610</td> <td> 0.000</td> <td> 1.24e-05</td> <td> 4.18e-05</td>\n",
       "</tr>\n",
       "<tr>\n",
       "  <th>x4</th>    <td> 2.709e-05</td> <td>  7.5e-06</td> <td>    3.610</td> <td> 0.000</td> <td> 1.24e-05</td> <td> 4.18e-05</td>\n",
       "</tr>\n",
       "<tr>\n",
       "  <th>x5</th>    <td>    0.0370</td> <td>    0.001</td> <td>   28.082</td> <td> 0.000</td> <td>    0.034</td> <td>    0.040</td>\n",
       "</tr>\n",
       "<tr>\n",
       "  <th>x6</th>    <td>   -0.0006</td> <td> 4.42e-05</td> <td>  -13.106</td> <td> 0.000</td> <td>   -0.001</td> <td>   -0.000</td>\n",
       "</tr>\n",
       "<tr>\n",
       "  <th>x7</th>    <td>    0.0004</td> <td>  1.9e-05</td> <td>   20.108</td> <td> 0.000</td> <td>    0.000</td> <td>    0.000</td>\n",
       "</tr>\n",
       "<tr>\n",
       "  <th>x8</th>    <td>   -0.0033</td> <td>    0.000</td> <td>  -10.910</td> <td> 0.000</td> <td>   -0.004</td> <td>   -0.003</td>\n",
       "</tr>\n",
       "<tr>\n",
       "  <th>x9</th>    <td>    0.0042</td> <td>    0.000</td> <td>   10.634</td> <td> 0.000</td> <td>    0.003</td> <td>    0.005</td>\n",
       "</tr>\n",
       "<tr>\n",
       "  <th>x10</th>   <td>   -0.0005</td> <td>    0.000</td> <td>   -4.409</td> <td> 0.000</td> <td>   -0.001</td> <td>   -0.000</td>\n",
       "</tr>\n",
       "<tr>\n",
       "  <th>x11</th>   <td>    0.0005</td> <td>    0.000</td> <td>    3.080</td> <td> 0.002</td> <td>    0.000</td> <td>    0.001</td>\n",
       "</tr>\n",
       "<tr>\n",
       "  <th>x12</th>   <td>    0.0007</td> <td>    0.000</td> <td>    2.679</td> <td> 0.007</td> <td>    0.000</td> <td>    0.001</td>\n",
       "</tr>\n",
       "<tr>\n",
       "  <th>x13</th>   <td>    0.3582</td> <td>    0.006</td> <td>   64.935</td> <td> 0.000</td> <td>    0.347</td> <td>    0.369</td>\n",
       "</tr>\n",
       "</table>\n",
       "<table class=\"simpletable\">\n",
       "<tr>\n",
       "  <th>Omnibus:</th>       <td>1129.061</td> <th>  Durbin-Watson:     </th> <td>   1.518</td>\n",
       "</tr>\n",
       "<tr>\n",
       "  <th>Prob(Omnibus):</th>  <td> 0.000</td>  <th>  Jarque-Bera (JB):  </th> <td>2022.405</td>\n",
       "</tr>\n",
       "<tr>\n",
       "  <th>Skew:</th>           <td>-0.155</td>  <th>  Prob(JB):          </th> <td>    0.00</td>\n",
       "</tr>\n",
       "<tr>\n",
       "  <th>Kurtosis:</th>       <td> 3.870</td>  <th>  Cond. No.          </th> <td>1.18e+17</td>\n",
       "</tr>\n",
       "</table><br/><br/>Warnings:<br/>[1] Standard Errors assume that the covariance matrix of the errors is correctly specified.<br/>[2] The smallest eigenvalue is 2.36e-23. This might indicate that there are<br/>strong multicollinearity problems or that the design matrix is singular."
      ],
      "text/plain": [
       "<class 'statsmodels.iolib.summary.Summary'>\n",
       "\"\"\"\n",
       "                            OLS Regression Results                            \n",
       "==============================================================================\n",
       "Dep. Variable:         average_rating   R-squared:                       0.160\n",
       "Model:                            OLS   Adj. R-squared:                  0.160\n",
       "Method:                 Least Squares   F-statistic:                     903.7\n",
       "Date:                Sun, 08 Dec 2019   Prob (F-statistic):               0.00\n",
       "Time:                        21:24:02   Log-Likelihood:            -1.0175e+05\n",
       "No. Observations:               56894   AIC:                         2.035e+05\n",
       "Df Residuals:                   56881   BIC:                         2.036e+05\n",
       "Df Model:                          12                                         \n",
       "Covariance Type:            nonrobust                                         \n",
       "==============================================================================\n",
       "                 coef    std err          t      P>|t|      [0.025      0.975]\n",
       "------------------------------------------------------------------------------\n",
       "const          5.0530      0.029    173.151      0.000       4.996       5.110\n",
       "x1             0.0002   1.27e-05     12.977      0.000       0.000       0.000\n",
       "x2            -0.0711      0.008     -9.188      0.000      -0.086      -0.056\n",
       "x3          2.709e-05    7.5e-06      3.610      0.000    1.24e-05    4.18e-05\n",
       "x4          2.709e-05    7.5e-06      3.610      0.000    1.24e-05    4.18e-05\n",
       "x5             0.0370      0.001     28.082      0.000       0.034       0.040\n",
       "x6            -0.0006   4.42e-05    -13.106      0.000      -0.001      -0.000\n",
       "x7             0.0004    1.9e-05     20.108      0.000       0.000       0.000\n",
       "x8            -0.0033      0.000    -10.910      0.000      -0.004      -0.003\n",
       "x9             0.0042      0.000     10.634      0.000       0.003       0.005\n",
       "x10           -0.0005      0.000     -4.409      0.000      -0.001      -0.000\n",
       "x11            0.0005      0.000      3.080      0.002       0.000       0.001\n",
       "x12            0.0007      0.000      2.679      0.007       0.000       0.001\n",
       "x13            0.3582      0.006     64.935      0.000       0.347       0.369\n",
       "==============================================================================\n",
       "Omnibus:                     1129.061   Durbin-Watson:                   1.518\n",
       "Prob(Omnibus):                  0.000   Jarque-Bera (JB):             2022.405\n",
       "Skew:                          -0.155   Prob(JB):                         0.00\n",
       "Kurtosis:                       3.870   Cond. No.                     1.18e+17\n",
       "==============================================================================\n",
       "\n",
       "Warnings:\n",
       "[1] Standard Errors assume that the covariance matrix of the errors is correctly specified.\n",
       "[2] The smallest eigenvalue is 2.36e-23. This might indicate that there are\n",
       "strong multicollinearity problems or that the design matrix is singular.\n",
       "\"\"\""
      ]
     },
     "execution_count": 8,
     "metadata": {},
     "output_type": "execute_result"
    }
   ],
   "source": [
    "X_opt = X[:, [0, 1, 2, 4, 6, 7, 8, 10, 11, 12, 13, 14, 15, 16]]\n",
    "regressor_OLS = sm.OLS(endog = y, exog = X_opt).fit()\n",
    "regressor_OLS.summary()"
   ]
  },
  {
   "cell_type": "code",
   "execution_count": 9,
   "metadata": {},
   "outputs": [],
   "source": [
    "# feature scaling\n",
    "\n",
    "from sklearn.preprocessing import StandardScaler\n",
    "sc_X = StandardScaler()\n",
    "X_opt = sc_X.fit_transform(X_opt)\n",
    "sc_y = StandardScaler()\n",
    "y = sc_y.fit_transform(y.values.reshape(-1, 1))"
   ]
  },
  {
   "cell_type": "code",
   "execution_count": 10,
   "metadata": {},
   "outputs": [],
   "source": [
    "# splitting dataset into train and test set\n",
    "\n",
    "from sklearn.model_selection import train_test_split\n",
    "X_train, X_test, y_train, y_test = train_test_split(X_opt, y, test_size = .25)"
   ]
  },
  {
   "cell_type": "code",
   "execution_count": 11,
   "metadata": {},
   "outputs": [],
   "source": [
    "# applying multiple LinearRegression\n",
    "\n",
    "from sklearn.linear_model import LinearRegression\n",
    "linear_regressor = LinearRegression().fit(X_train, y_train)"
   ]
  },
  {
   "cell_type": "code",
   "execution_count": 12,
   "metadata": {},
   "outputs": [
    {
     "data": {
      "text/html": [
       "<div>\n",
       "<style scoped>\n",
       "    .dataframe tbody tr th:only-of-type {\n",
       "        vertical-align: middle;\n",
       "    }\n",
       "\n",
       "    .dataframe tbody tr th {\n",
       "        vertical-align: top;\n",
       "    }\n",
       "\n",
       "    .dataframe thead th {\n",
       "        text-align: right;\n",
       "    }\n",
       "</style>\n",
       "<table border=\"1\" class=\"dataframe\">\n",
       "  <thead>\n",
       "    <tr style=\"text-align: right;\">\n",
       "      <th></th>\n",
       "      <th>org</th>\n",
       "      <th>pred</th>\n",
       "    </tr>\n",
       "  </thead>\n",
       "  <tbody>\n",
       "    <tr>\n",
       "      <th>0</th>\n",
       "      <td>[3.25]</td>\n",
       "      <td>[5.6451563257303885]</td>\n",
       "    </tr>\n",
       "    <tr>\n",
       "      <th>1</th>\n",
       "      <td>[6.0]</td>\n",
       "      <td>[5.246749041526808]</td>\n",
       "    </tr>\n",
       "    <tr>\n",
       "      <th>2</th>\n",
       "      <td>[4.0]</td>\n",
       "      <td>[5.237219271092452]</td>\n",
       "    </tr>\n",
       "    <tr>\n",
       "      <th>3</th>\n",
       "      <td>[4.7]</td>\n",
       "      <td>[5.524229799309358]</td>\n",
       "    </tr>\n",
       "    <tr>\n",
       "      <th>4</th>\n",
       "      <td>[7.0]</td>\n",
       "      <td>[5.6867374343522235]</td>\n",
       "    </tr>\n",
       "  </tbody>\n",
       "</table>\n",
       "</div>"
      ],
      "text/plain": [
       "      org                  pred\n",
       "0  [3.25]  [5.6451563257303885]\n",
       "1   [6.0]   [5.246749041526808]\n",
       "2   [4.0]   [5.237219271092452]\n",
       "3   [4.7]   [5.524229799309358]\n",
       "4   [7.0]  [5.6867374343522235]"
      ]
     },
     "execution_count": 12,
     "metadata": {},
     "output_type": "execute_result"
    }
   ],
   "source": [
    "pd.DataFrame(list(zip(sc_y.inverse_transform(y_test), sc_y.inverse_transform(linear_regressor.predict(X_test)))), columns = ['org', 'pred']).head()\n",
    "# pd.DataFrame(list(zip(y_test, linear_regressor.predict(X_test))), columns = ['Original', 'Predicted']).head()"
   ]
  },
  {
   "cell_type": "code",
   "execution_count": 15,
   "metadata": {},
   "outputs": [
    {
     "name": "stdout",
     "output_type": "stream",
     "text": [
      "r2_score: 0.14170985051057483\n",
      "mean_squared_error: 2.162432501174121\n",
      "lr accuracy_score: 0.14170985051057483\n"
     ]
    }
   ],
   "source": [
    "# # evaluating LinearRegression Model\n",
    "# from sklearn.metrics import mean_squared_error\n",
    "# from sklearn.metrics import r2_score\n",
    "# import numpy as np\n",
    "\n",
    "# r2_score = r2_score(y_test, linear_regressor.predict(X_test))\n",
    "# mse = mean_squared_error(y_test, linear_regressor.predict(X_test))\n",
    "# print('r2_score: ' + str(r2_score))\n",
    "# print('mean_squared_error: ' + str(mse))\n",
    "# print('lr accuracy_score: ' + str(linear_regressor.score(X_test, y_test)))"
   ]
  },
  {
   "cell_type": "code",
   "execution_count": 13,
   "metadata": {},
   "outputs": [
    {
     "name": "stdout",
     "output_type": "stream",
     "text": [
      "r2_score: 0.16165241287638\n",
      "mean_squared_error: 2.122858642750639\n",
      "lr accuracy_score: 0.16165241287637977\n"
     ]
    }
   ],
   "source": [
    "# evaluating LinearRegression Model\n",
    "from sklearn.metrics import mean_squared_error\n",
    "from sklearn.metrics import r2_score\n",
    "import numpy as np\n",
    "\n",
    "r2_score = r2_score(sc_y.inverse_transform(y_test), sc_y.inverse_transform(linear_regressor.predict(X_test)))\n",
    "mse = mean_squared_error(sc_y.inverse_transform(y_test), sc_y.inverse_transform(linear_regressor.predict(X_test)))\n",
    "print('r2_score: ' + str(r2_score))\n",
    "print('mean_squared_error: ' + str(mse))\n",
    "print('lr accuracy_score: ' + str(linear_regressor.score(X_test, y_test)))"
   ]
  },
  {
   "cell_type": "code",
   "execution_count": 15,
   "metadata": {},
   "outputs": [
    {
     "data": {
      "image/png": "[encoded data removed]",
      "text/plain": [
       "<Figure size 432x288 with 1 Axes>"
      ]
     },
     "metadata": {
      "needs_background": "light"
     },
     "output_type": "display_data"
    }
   ],
   "source": [
    "#plotting original result vs predicted result\n",
    "import matplotlib.pyplot as plt\n",
    "\n",
    "plt.scatter([i for i in range(1, 21)], sc_y.inverse_transform(y_test)[:20], label = 'original')\n",
    "plt.scatter([i for i in range(1, 21)], sc_y.inverse_transform(linear_regressor.predict(X_test))[:20], label = 'LR prediction', c = 'r')\n",
    "plt.legend()\n",
    "plt.show()"
   ]
  },
  {
   "cell_type": "code",
   "execution_count": 19,
   "metadata": {},
   "outputs": [
    {
     "name": "stderr",
     "output_type": "stream",
     "text": [
      "C:\\ProgramData\\Anaconda3\\lib\\site-packages\\sklearn\\utils\\validation.py:578: DataConversionWarning: A column-vector y was passed when a 1d array was expected. Please change the shape of y to (n_samples, ), for example using ravel().\n",
      "  y = column_or_1d(y, warn=True)\n"
     ]
    }
   ],
   "source": [
    "# applying support vector regression\n",
    "from sklearn.svm import SVR\n",
    "svr = SVR(kernel = 'rbf').fit(X_train, y_train)"
   ]
  },
  {
   "cell_type": "code",
   "execution_count": 49,
   "metadata": {},
   "outputs": [
    {
     "data": {
      "text/html": [
       "<div>\n",
       "<style scoped>\n",
       "    .dataframe tbody tr th:only-of-type {\n",
       "        vertical-align: middle;\n",
       "    }\n",
       "\n",
       "    .dataframe tbody tr th {\n",
       "        vertical-align: top;\n",
       "    }\n",
       "\n",
       "    .dataframe thead th {\n",
       "        text-align: right;\n",
       "    }\n",
       "</style>\n",
       "<table border=\"1\" class=\"dataframe\">\n",
       "  <thead>\n",
       "    <tr style=\"text-align: right;\">\n",
       "      <th></th>\n",
       "      <th>org</th>\n",
       "      <th>pred</th>\n",
       "    </tr>\n",
       "  </thead>\n",
       "  <tbody>\n",
       "    <tr>\n",
       "      <th>0</th>\n",
       "      <td>[3.25]</td>\n",
       "      <td>6.056383</td>\n",
       "    </tr>\n",
       "    <tr>\n",
       "      <th>1</th>\n",
       "      <td>[6.0]</td>\n",
       "      <td>5.892238</td>\n",
       "    </tr>\n",
       "    <tr>\n",
       "      <th>2</th>\n",
       "      <td>[4.0]</td>\n",
       "      <td>5.383152</td>\n",
       "    </tr>\n",
       "    <tr>\n",
       "      <th>3</th>\n",
       "      <td>[4.7]</td>\n",
       "      <td>5.138326</td>\n",
       "    </tr>\n",
       "    <tr>\n",
       "      <th>4</th>\n",
       "      <td>[7.0]</td>\n",
       "      <td>6.714224</td>\n",
       "    </tr>\n",
       "  </tbody>\n",
       "</table>\n",
       "</div>"
      ],
      "text/plain": [
       "      org      pred\n",
       "0  [3.25]  6.056383\n",
       "1   [6.0]  5.892238\n",
       "2   [4.0]  5.383152\n",
       "3   [4.7]  5.138326\n",
       "4   [7.0]  6.714224"
      ]
     },
     "execution_count": 49,
     "metadata": {},
     "output_type": "execute_result"
    }
   ],
   "source": [
    "pd.DataFrame(list(zip(sc_y.inverse_transform(y_test), sc_y.inverse_transform(svr.predict(X_test)))), columns = ['org', 'pred']).head()"
   ]
  },
  {
   "cell_type": "code",
   "execution_count": 50,
   "metadata": {},
   "outputs": [
    {
     "name": "stdout",
     "output_type": "stream",
     "text": [
      "r2_score: 0.2830492350405267\n",
      "mean_squared_error: 1.8154583506858388\n",
      "svr accuracy_score: 0.16165241287637977\n"
     ]
    }
   ],
   "source": [
    "# evaluating Support Vector Regressoion Model\n",
    "from sklearn.metrics import mean_squared_error\n",
    "from sklearn.metrics import r2_score\n",
    "import numpy as np\n",
    "\n",
    "r2_score = r2_score(sc_y.inverse_transform(y_test), sc_y.inverse_transform(svr.predict(X_test)))\n",
    "mse = mean_squared_error(sc_y.inverse_transform(y_test), sc_y.inverse_transform(svr.predict(X_test)))\n",
    "print('r2_score: ' + str(r2_score))\n",
    "print('mean_squared_error: ' + str(mse))\n",
    "print('svr accuracy_score: ' + str(linear_regressor.score(X_test, y_test)))"
   ]
  },
  {
   "cell_type": "code",
   "execution_count": 30,
   "metadata": {},
   "outputs": [
    {
     "data": {
      "image/png": "[encoded data removed]",
      "text/plain": [
       "<Figure size 432x288 with 1 Axes>"
      ]
     },
     "metadata": {
      "needs_background": "light"
     },
     "output_type": "display_data"
    }
   ],
   "source": [
    "plt.scatter([i for i in range(1, 21)], sc_y.inverse_transform(y_test)[:20], label = 'original')\n",
    "plt.scatter([i for i in range(1, 21)], sc_y.inverse_transform(svr.predict(X_test))[:20], label = 'SVR prediction', c = 'r')\n",
    "plt.legend()\n",
    "plt.show()"
   ]
  },
  {
   "cell_type": "code",
   "execution_count": 32,
   "metadata": {},
   "outputs": [],
   "source": [
    "# applying DecisionTreeRegressor\n",
    "from sklearn.tree import DecisionTreeRegressor\n",
    "dtr = DecisionTreeRegressor().fit(X_train, y_train)"
   ]
  },
  {
   "cell_type": "code",
   "execution_count": 51,
   "metadata": {},
   "outputs": [
    {
     "data": {
      "text/html": [
       "<div>\n",
       "<style scoped>\n",
       "    .dataframe tbody tr th:only-of-type {\n",
       "        vertical-align: middle;\n",
       "    }\n",
       "\n",
       "    .dataframe tbody tr th {\n",
       "        vertical-align: top;\n",
       "    }\n",
       "\n",
       "    .dataframe thead th {\n",
       "        text-align: right;\n",
       "    }\n",
       "</style>\n",
       "<table border=\"1\" class=\"dataframe\">\n",
       "  <thead>\n",
       "    <tr style=\"text-align: right;\">\n",
       "      <th></th>\n",
       "      <th>org</th>\n",
       "      <th>pred</th>\n",
       "    </tr>\n",
       "  </thead>\n",
       "  <tbody>\n",
       "    <tr>\n",
       "      <th>0</th>\n",
       "      <td>[3.25]</td>\n",
       "      <td>6.33333</td>\n",
       "    </tr>\n",
       "    <tr>\n",
       "      <th>1</th>\n",
       "      <td>[6.0]</td>\n",
       "      <td>7.75000</td>\n",
       "    </tr>\n",
       "    <tr>\n",
       "      <th>2</th>\n",
       "      <td>[4.0]</td>\n",
       "      <td>7.00000</td>\n",
       "    </tr>\n",
       "    <tr>\n",
       "      <th>3</th>\n",
       "      <td>[4.7]</td>\n",
       "      <td>4.11667</td>\n",
       "    </tr>\n",
       "    <tr>\n",
       "      <th>4</th>\n",
       "      <td>[7.0]</td>\n",
       "      <td>7.00000</td>\n",
       "    </tr>\n",
       "  </tbody>\n",
       "</table>\n",
       "</div>"
      ],
      "text/plain": [
       "      org     pred\n",
       "0  [3.25]  6.33333\n",
       "1   [6.0]  7.75000\n",
       "2   [4.0]  7.00000\n",
       "3   [4.7]  4.11667\n",
       "4   [7.0]  7.00000"
      ]
     },
     "execution_count": 51,
     "metadata": {},
     "output_type": "execute_result"
    }
   ],
   "source": [
    "pd.DataFrame(list(zip(sc_y.inverse_transform(y_test), sc_y.inverse_transform(dtr.predict(X_test)))), columns = ['org', 'pred']).head()"
   ]
  },
  {
   "cell_type": "code",
   "execution_count": 53,
   "metadata": {},
   "outputs": [
    {
     "name": "stdout",
     "output_type": "stream",
     "text": [
      "r2_score: -0.20499537085195096\n",
      "mean_squared_error: 3.051281922650033\n",
      "dtr accuracy_score: 0.16165241287637977\n"
     ]
    }
   ],
   "source": [
    "# evaluating DecisionTreeRegressor Model\n",
    "from sklearn.metrics import mean_squared_error\n",
    "from sklearn.metrics import r2_score\n",
    "import numpy as np\n",
    "\n",
    "r2_score = r2_score(sc_y.inverse_transform(y_test), sc_y.inverse_transform(dtr.predict(X_test)))\n",
    "mse = mean_squared_error(sc_y.inverse_transform(y_test), sc_y.inverse_transform(dtr.predict(X_test)))\n",
    "print('r2_score: ' + str(r2_score))\n",
    "print('mean_squared_error: ' + str(mse))\n",
    "print('dtr accuracy_score: ' + str(linear_regressor.score(X_test, y_test)))"
   ]
  },
  {
   "cell_type": "code",
   "execution_count": 54,
   "metadata": {},
   "outputs": [
    {
     "data": {
      "image/png": "[encoded data removed]",
      "text/plain": [
       "<Figure size 432x288 with 1 Axes>"
      ]
     },
     "metadata": {
      "needs_background": "light"
     },
     "output_type": "display_data"
    }
   ],
   "source": [
    "plt.scatter([i for i in range(1, 21)], sc_y.inverse_transform(y_test)[:20], label = 'original')\n",
    "plt.scatter([i for i in range(1, 21)], sc_y.inverse_transform(dtr.predict(X_test))[:20], label = 'DTR prediction', c = 'r')\n",
    "plt.legend()\n",
    "plt.show()"
   ]
  },
  {
   "cell_type": "code",
   "execution_count": 43,
   "metadata": {},
   "outputs": [
    {
     "name": "stderr",
     "output_type": "stream",
     "text": [
      "C:\\ProgramData\\Anaconda3\\lib\\site-packages\\sklearn\\ensemble\\weight_boosting.py:29: DeprecationWarning: numpy.core.umath_tests is an internal NumPy module and should not be imported. It will be removed in a future NumPy release.\n",
      "  from numpy.core.umath_tests import inner1d\n",
      "C:\\ProgramData\\Anaconda3\\lib\\site-packages\\ipykernel_launcher.py:4: DataConversionWarning: A column-vector y was passed when a 1d array was expected. Please change the shape of y to (n_samples,), for example using ravel().\n",
      "  after removing the cwd from sys.path.\n"
     ]
    }
   ],
   "source": [
    "# applying RandomForestRegressor\n",
    "from sklearn.ensemble import RandomForestRegressor\n",
    "\n",
    "rf_regressor = RandomForestRegressor(n_estimators=100, random_state = 0).fit(X_train, y_train)"
   ]
  },
  {
   "cell_type": "code",
   "execution_count": 44,
   "metadata": {},
   "outputs": [
    {
     "data": {
      "text/html": [
       "<div>\n",
       "<style scoped>\n",
       "    .dataframe tbody tr th:only-of-type {\n",
       "        vertical-align: middle;\n",
       "    }\n",
       "\n",
       "    .dataframe tbody tr th {\n",
       "        vertical-align: top;\n",
       "    }\n",
       "\n",
       "    .dataframe thead th {\n",
       "        text-align: right;\n",
       "    }\n",
       "</style>\n",
       "<table border=\"1\" class=\"dataframe\">\n",
       "  <thead>\n",
       "    <tr style=\"text-align: right;\">\n",
       "      <th></th>\n",
       "      <th>org</th>\n",
       "      <th>pred</th>\n",
       "    </tr>\n",
       "  </thead>\n",
       "  <tbody>\n",
       "    <tr>\n",
       "      <th>0</th>\n",
       "      <td>[3.25]</td>\n",
       "      <td>5.627522</td>\n",
       "    </tr>\n",
       "    <tr>\n",
       "      <th>1</th>\n",
       "      <td>[6.0]</td>\n",
       "      <td>6.850881</td>\n",
       "    </tr>\n",
       "    <tr>\n",
       "      <th>2</th>\n",
       "      <td>[4.0]</td>\n",
       "      <td>5.799357</td>\n",
       "    </tr>\n",
       "    <tr>\n",
       "      <th>3</th>\n",
       "      <td>[4.7]</td>\n",
       "      <td>3.988343</td>\n",
       "    </tr>\n",
       "    <tr>\n",
       "      <th>4</th>\n",
       "      <td>[7.0]</td>\n",
       "      <td>7.047700</td>\n",
       "    </tr>\n",
       "  </tbody>\n",
       "</table>\n",
       "</div>"
      ],
      "text/plain": [
       "      org      pred\n",
       "0  [3.25]  5.627522\n",
       "1   [6.0]  6.850881\n",
       "2   [4.0]  5.799357\n",
       "3   [4.7]  3.988343\n",
       "4   [7.0]  7.047700"
      ]
     },
     "execution_count": 44,
     "metadata": {},
     "output_type": "execute_result"
    }
   ],
   "source": [
    "pd.DataFrame(list(zip(sc_y.inverse_transform(y_test), sc_y.inverse_transform(rf_regressor.predict(X_test)))), columns = ['org', 'pred']).head()\n"
   ]
  },
  {
   "cell_type": "code",
   "execution_count": 56,
   "metadata": {},
   "outputs": [
    {
     "name": "stdout",
     "output_type": "stream",
     "text": [
      "r2_score: 0.38108519672278085\n",
      "mean_squared_error: 1.5672122869360836\n",
      "rf accuracy_score: 0.16165241287637977\n"
     ]
    }
   ],
   "source": [
    "# evaluating RandomForestRegression Model\n",
    "from sklearn.metrics import mean_squared_error\n",
    "from sklearn.metrics import r2_score\n",
    "import numpy as np\n",
    "\n",
    "r2_score = r2_score(sc_y.inverse_transform(y_test), sc_y.inverse_transform(rf_regressor.predict(X_test)))\n",
    "mse = mean_squared_error(sc_y.inverse_transform(y_test), sc_y.inverse_transform(rf_regressor.predict(X_test)))\n",
    "print('r2_score: ' + str(r2_score))\n",
    "print('mean_squared_error: ' + str(mse))\n",
    "print('rf accuracy_score: ' + str(linear_regressor.score(X_test, y_test)))"
   ]
  },
  {
   "cell_type": "code",
   "execution_count": 58,
   "metadata": {},
   "outputs": [
    {
     "data": {
      "image/png": "[encoded data removed]",
      "text/plain": [
       "<Figure size 432x288 with 1 Axes>"
      ]
     },
     "metadata": {
      "needs_background": "light"
     },
     "output_type": "display_data"
    }
   ],
   "source": [
    "plt.scatter([i for i in range(1, 21)], sc_y.inverse_transform(y_test)[:20], label = 'original')\n",
    "plt.scatter([i for i in range(1, 21)], sc_y.inverse_transform(rf_regressor.predict(X_test))[:20], label = 'RF prediction', c = 'r')\n",
    "plt.legend()\n",
    "plt.show()"
   ]
  },
  {
   "cell_type": "code",
   "execution_count": 57,
   "metadata": {
    "scrolled": true
   },
   "outputs": [
    {
     "name": "stdout",
     "output_type": "stream",
     "text": [
      "lr accuracy_score: 0.16165241287637977\n",
      "svr accuracy_score: 0.2830492350405267\n",
      "dtr accuracy_score: -0.20499537085195096\n",
      "rfr accuracy_score: 0.3810851967227808\n"
     ]
    }
   ],
   "source": [
    "print('lr accuracy_score: ' + str(linear_regressor.score(X_test, y_test)))\n",
    "print('svr accuracy_score: ' + str(svr.score(X_test, y_test)))\n",
    "print('dtr accuracy_score: ' + str(dtr.score(X_test, y_test)))\n",
    "print('rfr accuracy_score: ' + str(rf_regressor.score(X_test, y_test)))"
   ]
  },
  {
   "cell_type": "code",
   "execution_count": null,
   "metadata": {},
   "outputs": [],
   "source": [
    "plt.scatter([i for i in range(1, 21)], sc_y.inverse_transform(y_test)[:20], label = 'original')\n",
    "plt.scatter([i for i in range(1, 21)], sc_y.inverse_transform(linear_regressor.predict(X_test))[:20], label = 'LR prediction', c = 'black')\n",
    "plt.scatter([i for i in range(1, 21)], sc_y.inverse_transform(svr.predict(X_test))[:20], label = 'SVR prediction', c = 'r')\n",
    "plt.scatter([i for i in range(1, 21)], sc_y.inverse_transform(dtr.predict(X_test))[:20], label = 'DTR prediction', c = 'purple')\n",
    "plt.scatter([i for i in range(1, 21)], sc_y.inverse_transform(rf_regressor.predict(X_test))[:20], label = 'RF prediction', c = 'yellow')\n",
    "plt.legend()\n",
    "plt.show()"
   ]
  }
 ],
 "metadata": {
  "kernelspec": {
   "display_name": "Python 3",
   "language": "python",
   "name": "python3"
  },
  "language_info": {
   "codemirror_mode": {
    "name": "ipython",
    "version": 3
   },
   "file_extension": ".py",
   "mimetype": "text/x-python",
   "name": "python",
   "nbconvert_exporter": "python",
   "pygments_lexer": "ipython3",
   "version": "3.7.0"
  }
 },
 "nbformat": 4,
 "nbformat_minor": 2
}
