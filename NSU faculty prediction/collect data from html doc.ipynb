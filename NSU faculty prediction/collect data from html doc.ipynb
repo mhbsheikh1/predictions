{
 "cells": [
  {
   "cell_type": "code",
   "execution_count": 28,
   "metadata": {},
   "outputs": [],
   "source": [
    "import pandas as pd\n",
    "import re"
   ]
  },
  {
   "cell_type": "code",
   "execution_count": 59,
   "metadata": {},
   "outputs": [],
   "source": [
    "df = pd.read_html('https://rds2.northsouth.edu/index.php/common/showofferedcourses/')"
   ]
  },
  {
   "cell_type": "code",
   "execution_count": 60,
   "metadata": {},
   "outputs": [],
   "source": [
    "df = df[0]"
   ]
  },
  {
   "cell_type": "code",
   "execution_count": 61,
   "metadata": {},
   "outputs": [
    {
     "data": {
      "text/html": [
       "<div>\n",
       "<style scoped>\n",
       "    .dataframe tbody tr th:only-of-type {\n",
       "        vertical-align: middle;\n",
       "    }\n",
       "\n",
       "    .dataframe tbody tr th {\n",
       "        vertical-align: top;\n",
       "    }\n",
       "\n",
       "    .dataframe thead th {\n",
       "        text-align: right;\n",
       "    }\n",
       "</style>\n",
       "<table border=\"1\" class=\"dataframe\">\n",
       "  <thead>\n",
       "    <tr style=\"text-align: right;\">\n",
       "      <th></th>\n",
       "      <th>Course</th>\n",
       "      <th>Section</th>\n",
       "      <th>Faculty</th>\n",
       "      <th>Time</th>\n",
       "      <th>Room</th>\n",
       "      <th>Seats Available</th>\n",
       "    </tr>\n",
       "  </thead>\n",
       "  <tbody>\n",
       "    <tr>\n",
       "      <th>0</th>\n",
       "      <td>ACT201</td>\n",
       "      <td>1</td>\n",
       "      <td>TBA</td>\n",
       "      <td>MW 11:20 AM - 12:50 PM</td>\n",
       "      <td>NAC993</td>\n",
       "      <td>44</td>\n",
       "    </tr>\n",
       "    <tr>\n",
       "      <th>1</th>\n",
       "      <td>ACT201</td>\n",
       "      <td>2</td>\n",
       "      <td>TBA</td>\n",
       "      <td>MW 09:40 AM - 11:10 AM</td>\n",
       "      <td>SAC401</td>\n",
       "      <td>30</td>\n",
       "    </tr>\n",
       "    <tr>\n",
       "      <th>2</th>\n",
       "      <td>ACT201</td>\n",
       "      <td>3</td>\n",
       "      <td>TBA</td>\n",
       "      <td>MW 11:20 AM - 12:50 PM</td>\n",
       "      <td>NAC201</td>\n",
       "      <td>30</td>\n",
       "    </tr>\n",
       "    <tr>\n",
       "      <th>3</th>\n",
       "      <td>ACT201</td>\n",
       "      <td>4</td>\n",
       "      <td>TBA</td>\n",
       "      <td>MW 02:40 PM - 04:10 PM</td>\n",
       "      <td>NAC410</td>\n",
       "      <td>42</td>\n",
       "    </tr>\n",
       "    <tr>\n",
       "      <th>4</th>\n",
       "      <td>ACT201</td>\n",
       "      <td>5</td>\n",
       "      <td>TBA</td>\n",
       "      <td>MW 01:00 PM - 02:30 PM</td>\n",
       "      <td>NAC210</td>\n",
       "      <td>38</td>\n",
       "    </tr>\n",
       "  </tbody>\n",
       "</table>\n",
       "</div>"
      ],
      "text/plain": [
       "   Course  Section Faculty                    Time    Room  Seats Available\n",
       "0  ACT201        1     TBA  MW 11:20 AM - 12:50 PM  NAC993               44\n",
       "1  ACT201        2     TBA  MW 09:40 AM - 11:10 AM  SAC401               30\n",
       "2  ACT201        3     TBA  MW 11:20 AM - 12:50 PM  NAC201               30\n",
       "3  ACT201        4     TBA  MW 02:40 PM - 04:10 PM  NAC410               42\n",
       "4  ACT201        5     TBA  MW 01:00 PM - 02:30 PM  NAC210               38"
      ]
     },
     "execution_count": 61,
     "metadata": {},
     "output_type": "execute_result"
    }
   ],
   "source": [
    "df = df.iloc[:, 1:]\n",
    "df.head()"
   ]
  },
  {
   "cell_type": "code",
   "execution_count": 17,
   "metadata": {},
   "outputs": [],
   "source": [
    "df.to_csv('201.csv', index = False)"
   ]
  },
  {
   "cell_type": "code",
   "execution_count": 20,
   "metadata": {},
   "outputs": [
    {
     "data": {
      "text/html": [
       "<div>\n",
       "<style scoped>\n",
       "    .dataframe tbody tr th:only-of-type {\n",
       "        vertical-align: middle;\n",
       "    }\n",
       "\n",
       "    .dataframe tbody tr th {\n",
       "        vertical-align: top;\n",
       "    }\n",
       "\n",
       "    .dataframe thead th {\n",
       "        text-align: right;\n",
       "    }\n",
       "</style>\n",
       "<table border=\"1\" class=\"dataframe\">\n",
       "  <thead>\n",
       "    <tr style=\"text-align: right;\">\n",
       "      <th></th>\n",
       "      <th>Course</th>\n",
       "      <th>Section</th>\n",
       "      <th>Faculty</th>\n",
       "      <th>Time</th>\n",
       "    </tr>\n",
       "  </thead>\n",
       "  <tbody>\n",
       "    <tr>\n",
       "      <th>0</th>\n",
       "      <td>ACT201</td>\n",
       "      <td>1</td>\n",
       "      <td>TBA</td>\n",
       "      <td>MW 11:20 AM - 12:50 PM</td>\n",
       "    </tr>\n",
       "    <tr>\n",
       "      <th>1</th>\n",
       "      <td>ACT201</td>\n",
       "      <td>2</td>\n",
       "      <td>TBA</td>\n",
       "      <td>MW 09:40 AM - 11:10 AM</td>\n",
       "    </tr>\n",
       "    <tr>\n",
       "      <th>2</th>\n",
       "      <td>ACT201</td>\n",
       "      <td>3</td>\n",
       "      <td>TBA</td>\n",
       "      <td>MW 11:20 AM - 12:50 PM</td>\n",
       "    </tr>\n",
       "    <tr>\n",
       "      <th>3</th>\n",
       "      <td>ACT201</td>\n",
       "      <td>4</td>\n",
       "      <td>TBA</td>\n",
       "      <td>MW 02:40 PM - 04:10 PM</td>\n",
       "    </tr>\n",
       "    <tr>\n",
       "      <th>4</th>\n",
       "      <td>ACT201</td>\n",
       "      <td>5</td>\n",
       "      <td>TBA</td>\n",
       "      <td>MW 01:00 PM - 02:30 PM</td>\n",
       "    </tr>\n",
       "  </tbody>\n",
       "</table>\n",
       "</div>"
      ],
      "text/plain": [
       "   Course  Section Faculty                    Time\n",
       "0  ACT201        1     TBA  MW 11:20 AM - 12:50 PM\n",
       "1  ACT201        2     TBA  MW 09:40 AM - 11:10 AM\n",
       "2  ACT201        3     TBA  MW 11:20 AM - 12:50 PM\n",
       "3  ACT201        4     TBA  MW 02:40 PM - 04:10 PM\n",
       "4  ACT201        5     TBA  MW 01:00 PM - 02:30 PM"
      ]
     },
     "execution_count": 20,
     "metadata": {},
     "output_type": "execute_result"
    }
   ],
   "source": [
    "new_df = pd.read_csv('201.csv')\n",
    "new_df = new_df.iloc[:, [0, 1, 2, 3]]\n",
    "new_df.head()"
   ]
  },
  {
   "cell_type": "code",
   "execution_count": 23,
   "metadata": {},
   "outputs": [
    {
     "data": {
      "text/plain": [
       "0    MW 11:20 AM - 12:50 PM\n",
       "1    MW 09:40 AM - 11:10 AM\n",
       "2    MW 11:20 AM - 12:50 PM\n",
       "3    MW 02:40 PM - 04:10 PM\n",
       "4    MW 01:00 PM - 02:30 PM\n",
       "Name: Time, dtype: object"
      ]
     },
     "execution_count": 23,
     "metadata": {},
     "output_type": "execute_result"
    }
   ],
   "source": [
    "temp = new_df['Time']\n",
    "temp[:5]"
   ]
  },
  {
   "cell_type": "code",
   "execution_count": 46,
   "metadata": {},
   "outputs": [],
   "source": [
    "temp = new_df['Time']\n",
    "df = new_df.iloc[:, :-1]"
   ]
  },
  {
   "cell_type": "code",
   "execution_count": 51,
   "metadata": {},
   "outputs": [],
   "source": [
    "day = []\n",
    "time = []\n",
    "for i in temp:\n",
    "    split = re.split(' ', i)\n",
    "    day.append(split[0])\n",
    "    temp = ''.join(split[1:])\n",
    "    temp = re.sub('[^A-Za-z0-9]', '', temp)\n",
    "    time.append(temp)"
   ]
  },
  {
   "cell_type": "code",
   "execution_count": 56,
   "metadata": {},
   "outputs": [
    {
     "data": {
      "text/html": [
       "<div>\n",
       "<style scoped>\n",
       "    .dataframe tbody tr th:only-of-type {\n",
       "        vertical-align: middle;\n",
       "    }\n",
       "\n",
       "    .dataframe tbody tr th {\n",
       "        vertical-align: top;\n",
       "    }\n",
       "\n",
       "    .dataframe thead th {\n",
       "        text-align: right;\n",
       "    }\n",
       "</style>\n",
       "<table border=\"1\" class=\"dataframe\">\n",
       "  <thead>\n",
       "    <tr style=\"text-align: right;\">\n",
       "      <th></th>\n",
       "      <th>Course</th>\n",
       "      <th>Section</th>\n",
       "      <th>Faculty</th>\n",
       "      <th>Day</th>\n",
       "      <th>Time</th>\n",
       "    </tr>\n",
       "  </thead>\n",
       "  <tbody>\n",
       "    <tr>\n",
       "      <th>0</th>\n",
       "      <td>ACT201</td>\n",
       "      <td>1</td>\n",
       "      <td>TBA</td>\n",
       "      <td>MW</td>\n",
       "      <td>1120AM1250PM</td>\n",
       "    </tr>\n",
       "    <tr>\n",
       "      <th>1</th>\n",
       "      <td>ACT201</td>\n",
       "      <td>2</td>\n",
       "      <td>TBA</td>\n",
       "      <td>MW</td>\n",
       "      <td>0940AM1110AM</td>\n",
       "    </tr>\n",
       "    <tr>\n",
       "      <th>2</th>\n",
       "      <td>ACT201</td>\n",
       "      <td>3</td>\n",
       "      <td>TBA</td>\n",
       "      <td>MW</td>\n",
       "      <td>1120AM1250PM</td>\n",
       "    </tr>\n",
       "    <tr>\n",
       "      <th>3</th>\n",
       "      <td>ACT201</td>\n",
       "      <td>4</td>\n",
       "      <td>TBA</td>\n",
       "      <td>MW</td>\n",
       "      <td>0240PM0410PM</td>\n",
       "    </tr>\n",
       "    <tr>\n",
       "      <th>4</th>\n",
       "      <td>ACT201</td>\n",
       "      <td>5</td>\n",
       "      <td>TBA</td>\n",
       "      <td>MW</td>\n",
       "      <td>0100PM0230PM</td>\n",
       "    </tr>\n",
       "  </tbody>\n",
       "</table>\n",
       "</div>"
      ],
      "text/plain": [
       "   Course  Section Faculty Day          Time\n",
       "0  ACT201        1     TBA  MW  1120AM1250PM\n",
       "1  ACT201        2     TBA  MW  0940AM1110AM\n",
       "2  ACT201        3     TBA  MW  1120AM1250PM\n",
       "3  ACT201        4     TBA  MW  0240PM0410PM\n",
       "4  ACT201        5     TBA  MW  0100PM0230PM"
      ]
     },
     "execution_count": 56,
     "metadata": {},
     "output_type": "execute_result"
    }
   ],
   "source": [
    "df['Day'] = day\n",
    "df['Time'] = time\n",
    "df.head()"
   ]
  },
  {
   "cell_type": "code",
   "execution_count": 57,
   "metadata": {},
   "outputs": [],
   "source": [
    "df.to_csv('201new.csv', index = False)"
   ]
  }
 ],
 "metadata": {
  "kernelspec": {
   "display_name": "Python 3",
   "language": "python",
   "name": "python3"
  },
  "language_info": {
   "codemirror_mode": {
    "name": "ipython",
    "version": 3
   },
   "file_extension": ".py",
   "mimetype": "text/x-python",
   "name": "python",
   "nbconvert_exporter": "python",
   "pygments_lexer": "ipython3",
   "version": "3.7.0"
  }
 },
 "nbformat": 4,
 "nbformat_minor": 2
}
